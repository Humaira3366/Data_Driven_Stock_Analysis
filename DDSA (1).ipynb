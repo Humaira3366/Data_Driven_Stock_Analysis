{
  "nbformat": 4,
  "nbformat_minor": 0,
  "metadata": {
    "colab": {
      "provenance": []
    },
    "kernelspec": {
      "name": "python3",
      "display_name": "Python 3"
    },
    "language_info": {
      "name": "python"
    }
  },
  "cells": [
    {
      "cell_type": "code",
      "execution_count": null,
      "metadata": {
        "colab": {
          "base_uri": "https://localhost:8080/"
        },
        "id": "ZlewgPvAdlCN",
        "outputId": "f4411b57-81ee-4c93-acfa-1381d7d18d8e"
      },
      "outputs": [
        {
          "output_type": "stream",
          "name": "stdout",
          "text": [
            "Collecting rarfile\n",
            "  Downloading rarfile-4.2-py3-none-any.whl.metadata (4.4 kB)\n",
            "Downloading rarfile-4.2-py3-none-any.whl (29 kB)\n",
            "Installing collected packages: rarfile\n",
            "Successfully installed rarfile-4.2\n"
          ]
        }
      ],
      "source": [
        "!pip install rarfile"
      ]
    },
    {
      "cell_type": "code",
      "source": [
        "import pandas as pd"
      ],
      "metadata": {
        "id": "8tp11fsQdwMl"
      },
      "execution_count": null,
      "outputs": []
    },
    {
      "cell_type": "code",
      "source": [
        "import rarfile\n",
        "rf = rarfile.RarFile('/content/data.rar')\n",
        "rf.extractall('data/')"
      ],
      "metadata": {
        "id": "FXKh_yU5d1hc"
      },
      "execution_count": null,
      "outputs": []
    },
    {
      "cell_type": "code",
      "source": [
        "import os\n",
        "\n",
        "for root, dirs, files in os.walk(\"/content/data\"):\n",
        "    for name in files:\n",
        "        print(os.path.join(root, name))"
      ],
      "metadata": {
        "colab": {
          "base_uri": "https://localhost:8080/"
        },
        "id": "x9Kce37Hd7Ic",
        "outputId": "e71e6407-bbd5-425c-99a3-06f1c9151654"
      },
      "execution_count": null,
      "outputs": [
        {
          "output_type": "stream",
          "name": "stdout",
          "text": [
            "/content/data/2024-09/2024-09-23_05-30-00.yaml\n",
            "/content/data/2024-09/2024-09-17_05-30-00.yaml\n",
            "/content/data/2024-09/2024-09-02_05-30-00.yaml\n",
            "/content/data/2024-09/2024-09-11_05-30-00.yaml\n",
            "/content/data/2024-09/2024-09-04_05-30-00.yaml\n",
            "/content/data/2024-09/2024-09-20_05-30-00.yaml\n",
            "/content/data/2024-09/2024-09-24_05-30-00.yaml\n",
            "/content/data/2024-09/2024-09-27_05-30-00.yaml\n",
            "/content/data/2024-09/2024-09-25_05-30-00.yaml\n",
            "/content/data/2024-09/2024-09-18_05-30-00.yaml\n",
            "/content/data/2024-09/2024-09-05_05-30-00.yaml\n",
            "/content/data/2024-09/2024-09-26_05-30-00.yaml\n",
            "/content/data/2024-09/2024-09-19_05-30-00.yaml\n",
            "/content/data/2024-09/2024-09-10_05-30-00.yaml\n",
            "/content/data/2024-09/2024-09-03_05-30-00.yaml\n",
            "/content/data/2024-09/2024-09-30_05-30-00.yaml\n",
            "/content/data/2024-09/2024-09-09_05-30-00.yaml\n",
            "/content/data/2024-09/2024-09-12_05-30-00.yaml\n",
            "/content/data/2024-09/2024-09-16_05-30-00.yaml\n",
            "/content/data/2024-09/2024-09-13_05-30-00.yaml\n",
            "/content/data/2024-09/2024-09-06_05-30-00.yaml\n",
            "/content/data/2024-06/2024-06-21_05-30-00.yaml\n",
            "/content/data/2024-06/2024-06-20_05-30-00.yaml\n",
            "/content/data/2024-06/2024-06-10_05-30-00.yaml\n",
            "/content/data/2024-06/2024-06-13_05-30-00.yaml\n",
            "/content/data/2024-06/2024-06-28_05-30-00.yaml\n",
            "/content/data/2024-06/2024-06-19_05-30-00.yaml\n",
            "/content/data/2024-06/2024-06-12_05-30-00.yaml\n",
            "/content/data/2024-06/2024-06-26_05-30-00.yaml\n",
            "/content/data/2024-06/2024-06-18_05-30-00.yaml\n",
            "/content/data/2024-06/2024-06-06_05-30-00.yaml\n",
            "/content/data/2024-06/2024-06-14_05-30-00.yaml\n",
            "/content/data/2024-06/2024-06-07_05-30-00.yaml\n",
            "/content/data/2024-06/2024-06-24_05-30-00.yaml\n",
            "/content/data/2024-06/2024-06-03_05-30-00.yaml\n",
            "/content/data/2024-06/2024-06-27_05-30-00.yaml\n",
            "/content/data/2024-06/2024-06-25_05-30-00.yaml\n",
            "/content/data/2024-06/2024-06-05_05-30-00.yaml\n",
            "/content/data/2024-06/2024-06-11_05-30-00.yaml\n",
            "/content/data/2024-06/2024-06-04_05-30-00.yaml\n",
            "/content/data/2024-02/2024-02-12_05-30-00.yaml\n",
            "/content/data/2024-02/2024-02-15_05-30-00.yaml\n",
            "/content/data/2024-02/2024-02-08_05-30-00.yaml\n",
            "/content/data/2024-02/2024-02-29_05-30-00.yaml\n",
            "/content/data/2024-02/2024-02-23_05-30-00.yaml\n",
            "/content/data/2024-02/2024-02-22_05-30-00.yaml\n",
            "/content/data/2024-02/2024-02-19_05-30-00.yaml\n",
            "/content/data/2024-02/2024-02-06_05-30-00.yaml\n",
            "/content/data/2024-02/2024-02-28_05-30-00.yaml\n",
            "/content/data/2024-02/2024-02-21_05-30-00.yaml\n",
            "/content/data/2024-02/2024-02-07_05-30-00.yaml\n",
            "/content/data/2024-02/2024-02-02_05-30-00.yaml\n",
            "/content/data/2024-02/2024-02-14_05-30-00.yaml\n",
            "/content/data/2024-02/2024-02-13_05-30-00.yaml\n",
            "/content/data/2024-02/2024-02-16_05-30-00.yaml\n",
            "/content/data/2024-02/2024-02-09_05-30-00.yaml\n",
            "/content/data/2024-02/2024-02-20_05-30-00.yaml\n",
            "/content/data/2024-02/2024-02-27_05-30-00.yaml\n",
            "/content/data/2024-02/2024-02-05_05-30-00.yaml\n",
            "/content/data/2024-02/2024-02-26_05-30-00.yaml\n",
            "/content/data/2024-02/2024-02-01_05-30-00.yaml\n",
            "/content/data/2023-10/2023-10-12_05-30-00.yaml\n",
            "/content/data/2023-10/2023-10-23_05-30-00.yaml\n",
            "/content/data/2023-10/2023-10-06_05-30-00.yaml\n",
            "/content/data/2023-10/2023-10-13_05-30-00.yaml\n",
            "/content/data/2023-10/2023-10-19_05-30-00.yaml\n",
            "/content/data/2023-10/2023-10-05_05-30-00.yaml\n",
            "/content/data/2023-10/2023-10-30_05-30-00.yaml\n",
            "/content/data/2023-10/2023-10-20_05-30-00.yaml\n",
            "/content/data/2023-10/2023-10-27_05-30-00.yaml\n",
            "/content/data/2023-10/2023-10-25_05-30-00.yaml\n",
            "/content/data/2023-10/2023-10-18_05-30-00.yaml\n",
            "/content/data/2023-10/2023-10-11_05-30-00.yaml\n",
            "/content/data/2023-10/2023-10-03_05-30-00.yaml\n",
            "/content/data/2023-10/2023-10-10_05-30-00.yaml\n",
            "/content/data/2023-10/2023-10-26_05-30-00.yaml\n",
            "/content/data/2023-10/2023-10-09_05-30-00.yaml\n",
            "/content/data/2023-10/2023-10-31_05-30-00.yaml\n",
            "/content/data/2023-10/2023-10-17_05-30-00.yaml\n",
            "/content/data/2023-10/2023-10-04_05-30-00.yaml\n",
            "/content/data/2023-10/2023-10-16_05-30-00.yaml\n",
            "/content/data/2024-03/2024-03-06_05-30-00.yaml\n",
            "/content/data/2024-03/2024-03-15_05-30-00.yaml\n",
            "/content/data/2024-03/2024-03-11_05-30-00.yaml\n",
            "/content/data/2024-03/2024-03-12_05-30-00.yaml\n",
            "/content/data/2024-03/2024-03-27_05-30-00.yaml\n",
            "/content/data/2024-03/2024-03-05_05-30-00.yaml\n",
            "/content/data/2024-03/2024-03-19_05-30-00.yaml\n",
            "/content/data/2024-03/2024-03-02_05-30-00.yaml\n",
            "/content/data/2024-03/2024-03-13_05-30-00.yaml\n",
            "/content/data/2024-03/2024-03-20_05-30-00.yaml\n",
            "/content/data/2024-03/2024-03-22_05-30-00.yaml\n",
            "/content/data/2024-03/2024-03-01_05-30-00.yaml\n",
            "/content/data/2024-03/2024-03-18_05-30-00.yaml\n",
            "/content/data/2024-03/2024-03-28_05-30-00.yaml\n",
            "/content/data/2024-03/2024-03-26_05-30-00.yaml\n",
            "/content/data/2024-03/2024-03-04_05-30-00.yaml\n",
            "/content/data/2024-03/2024-03-14_05-30-00.yaml\n",
            "/content/data/2024-03/2024-03-21_05-30-00.yaml\n",
            "/content/data/2024-03/2024-03-07_05-30-00.yaml\n",
            "/content/data/2024-07/2024-07-25_05-30-00.yaml\n",
            "/content/data/2024-07/2024-07-22_05-30-00.yaml\n",
            "/content/data/2024-07/2024-07-04_05-30-00.yaml\n",
            "/content/data/2024-07/2024-07-03_05-30-00.yaml\n",
            "/content/data/2024-07/2024-07-11_05-30-00.yaml\n",
            "/content/data/2024-07/2024-07-10_05-30-00.yaml\n",
            "/content/data/2024-07/2024-07-30_05-30-00.yaml\n",
            "/content/data/2024-07/2024-07-08_05-30-00.yaml\n",
            "/content/data/2024-07/2024-07-01_05-30-00.yaml\n",
            "/content/data/2024-07/2024-07-29_05-30-00.yaml\n",
            "/content/data/2024-07/2024-07-05_05-30-00.yaml\n",
            "/content/data/2024-07/2024-07-23_05-30-00.yaml\n",
            "/content/data/2024-07/2024-07-31_05-30-00.yaml\n",
            "/content/data/2024-07/2024-07-19_05-30-00.yaml\n",
            "/content/data/2024-07/2024-07-16_05-30-00.yaml\n",
            "/content/data/2024-07/2024-07-15_05-30-00.yaml\n",
            "/content/data/2024-07/2024-07-24_05-30-00.yaml\n",
            "/content/data/2024-07/2024-07-02_05-30-00.yaml\n",
            "/content/data/2024-07/2024-07-09_05-30-00.yaml\n",
            "/content/data/2024-07/2024-07-12_05-30-00.yaml\n",
            "/content/data/2024-07/2024-07-18_05-30-00.yaml\n",
            "/content/data/2024-07/2024-07-26_05-30-00.yaml\n",
            "/content/data/2024-05/2024-05-09_05-30-00.yaml\n",
            "/content/data/2024-05/2024-05-29_05-30-00.yaml\n",
            "/content/data/2024-05/2024-05-02_05-30-00.yaml\n",
            "/content/data/2024-05/2024-05-16_05-30-00.yaml\n",
            "/content/data/2024-05/2024-05-13_05-30-00.yaml\n",
            "/content/data/2024-05/2024-05-21_05-30-00.yaml\n",
            "/content/data/2024-05/2024-05-03_05-30-00.yaml\n",
            "/content/data/2024-05/2024-05-27_05-30-00.yaml\n",
            "/content/data/2024-05/2024-05-31_05-30-00.yaml\n",
            "/content/data/2024-05/2024-05-17_05-30-00.yaml\n",
            "/content/data/2024-05/2024-05-08_05-30-00.yaml\n",
            "/content/data/2024-05/2024-05-24_05-30-00.yaml\n",
            "/content/data/2024-05/2024-05-28_05-30-00.yaml\n",
            "/content/data/2024-05/2024-05-23_05-30-00.yaml\n",
            "/content/data/2024-05/2024-05-18_05-30-00.yaml\n",
            "/content/data/2024-05/2024-05-22_05-30-00.yaml\n",
            "/content/data/2024-05/2024-05-10_05-30-00.yaml\n",
            "/content/data/2024-05/2024-05-14_05-30-00.yaml\n",
            "/content/data/2024-05/2024-05-07_05-30-00.yaml\n",
            "/content/data/2024-05/2024-05-15_05-30-00.yaml\n",
            "/content/data/2024-05/2024-05-30_05-30-00.yaml\n",
            "/content/data/2024-05/2024-05-06_05-30-00.yaml\n",
            "/content/data/2024-01/2024-01-02_05-30-00.yaml\n",
            "/content/data/2024-01/2024-01-18_05-30-00.yaml\n",
            "/content/data/2024-01/2024-01-20_05-30-00.yaml\n",
            "/content/data/2024-01/2024-01-04_05-30-00.yaml\n",
            "/content/data/2024-01/2024-01-29_05-30-00.yaml\n",
            "/content/data/2024-01/2024-01-30_05-30-00.yaml\n",
            "/content/data/2024-01/2024-01-08_05-30-00.yaml\n",
            "/content/data/2024-01/2024-01-23_05-30-00.yaml\n",
            "/content/data/2024-01/2024-01-01_05-30-00.yaml\n",
            "/content/data/2024-01/2024-01-17_05-30-00.yaml\n",
            "/content/data/2024-01/2024-01-12_05-30-00.yaml\n",
            "/content/data/2024-01/2024-01-16_05-30-00.yaml\n",
            "/content/data/2024-01/2024-01-25_05-30-00.yaml\n",
            "/content/data/2024-01/2024-01-24_05-30-00.yaml\n",
            "/content/data/2024-01/2024-01-09_05-30-00.yaml\n",
            "/content/data/2024-01/2024-01-03_05-30-00.yaml\n",
            "/content/data/2024-01/2024-01-15_05-30-00.yaml\n",
            "/content/data/2024-01/2024-01-19_05-30-00.yaml\n",
            "/content/data/2024-01/2024-01-11_05-30-00.yaml\n",
            "/content/data/2024-01/2024-01-31_05-30-00.yaml\n",
            "/content/data/2024-01/2024-01-05_05-30-00.yaml\n",
            "/content/data/2024-01/2024-01-10_05-30-00.yaml\n",
            "/content/data/2024-10/2024-10-08_05-30-00.yaml\n",
            "/content/data/2024-10/2024-10-22_05-30-00.yaml\n",
            "/content/data/2024-10/2024-10-31_05-30-00.yaml\n",
            "/content/data/2024-10/2024-10-23_05-30-00.yaml\n",
            "/content/data/2024-10/2024-10-03_05-30-00.yaml\n",
            "/content/data/2024-10/2024-10-16_05-30-00.yaml\n",
            "/content/data/2024-10/2024-10-11_05-30-00.yaml\n",
            "/content/data/2024-10/2024-10-14_05-30-00.yaml\n",
            "/content/data/2024-10/2024-10-09_05-30-00.yaml\n",
            "/content/data/2024-10/2024-10-24_05-30-00.yaml\n",
            "/content/data/2024-10/2024-10-17_05-30-00.yaml\n",
            "/content/data/2024-10/2024-10-07_05-30-00.yaml\n",
            "/content/data/2024-10/2024-10-30_05-30-00.yaml\n",
            "/content/data/2024-10/2024-10-28_05-30-00.yaml\n",
            "/content/data/2024-10/2024-10-25_05-30-00.yaml\n",
            "/content/data/2024-10/2024-10-04_05-30-00.yaml\n",
            "/content/data/2024-10/2024-10-10_05-30-00.yaml\n",
            "/content/data/2024-10/2024-10-29_05-30-00.yaml\n",
            "/content/data/2024-10/2024-10-21_05-30-00.yaml\n",
            "/content/data/2024-10/2024-10-01_05-30-00.yaml\n",
            "/content/data/2024-10/2024-10-15_05-30-00.yaml\n",
            "/content/data/2024-10/2024-10-18_05-30-00.yaml\n",
            "/content/data/2023-12/2023-12-07_05-30-00.yaml\n",
            "/content/data/2023-12/2023-12-20_05-30-00.yaml\n",
            "/content/data/2023-12/2023-12-06_05-30-00.yaml\n",
            "/content/data/2023-12/2023-12-28_05-30-00.yaml\n",
            "/content/data/2023-12/2023-12-22_05-30-00.yaml\n",
            "/content/data/2023-12/2023-12-26_05-30-00.yaml\n",
            "/content/data/2023-12/2023-12-13_05-30-00.yaml\n",
            "/content/data/2023-12/2023-12-12_05-30-00.yaml\n",
            "/content/data/2023-12/2023-12-11_05-30-00.yaml\n",
            "/content/data/2023-12/2023-12-01_05-30-00.yaml\n",
            "/content/data/2023-12/2023-12-04_05-30-00.yaml\n",
            "/content/data/2023-12/2023-12-29_05-30-00.yaml\n",
            "/content/data/2023-12/2023-12-08_05-30-00.yaml\n",
            "/content/data/2023-12/2023-12-15_05-30-00.yaml\n",
            "/content/data/2023-12/2023-12-27_05-30-00.yaml\n",
            "/content/data/2023-12/2023-12-14_05-30-00.yaml\n",
            "/content/data/2023-12/2023-12-05_05-30-00.yaml\n",
            "/content/data/2023-12/2023-12-19_05-30-00.yaml\n",
            "/content/data/2023-12/2023-12-18_05-30-00.yaml\n",
            "/content/data/2023-12/2023-12-21_05-30-00.yaml\n",
            "/content/data/2023-11/2023-11-09_05-30-00.yaml\n",
            "/content/data/2023-11/2023-11-23_05-30-00.yaml\n",
            "/content/data/2023-11/2023-11-16_05-30-00.yaml\n",
            "/content/data/2023-11/2023-11-07_05-30-00.yaml\n",
            "/content/data/2023-11/2023-11-08_05-30-00.yaml\n",
            "/content/data/2023-11/2023-11-17_05-30-00.yaml\n",
            "/content/data/2023-11/2023-11-15_05-30-00.yaml\n",
            "/content/data/2023-11/2023-11-01_05-30-00.yaml\n",
            "/content/data/2023-11/2023-11-06_05-30-00.yaml\n",
            "/content/data/2023-11/2023-11-10_05-30-00.yaml\n",
            "/content/data/2023-11/2023-11-02_05-30-00.yaml\n",
            "/content/data/2023-11/2023-11-22_05-30-00.yaml\n",
            "/content/data/2023-11/2023-11-29_05-30-00.yaml\n",
            "/content/data/2023-11/2023-11-13_05-30-00.yaml\n",
            "/content/data/2023-11/2023-11-12_05-30-00.yaml\n",
            "/content/data/2023-11/2023-11-30_05-30-00.yaml\n",
            "/content/data/2023-11/2023-11-21_05-30-00.yaml\n",
            "/content/data/2023-11/2023-11-03_05-30-00.yaml\n",
            "/content/data/2023-11/2023-11-20_05-30-00.yaml\n",
            "/content/data/2023-11/2023-11-28_05-30-00.yaml\n",
            "/content/data/2023-11/2023-11-24_05-30-00.yaml\n",
            "/content/data/2024-11/2024-11-12_05-30-00.yaml\n",
            "/content/data/2024-11/2024-11-08_05-30-00.yaml\n",
            "/content/data/2024-11/2024-11-11_05-30-00.yaml\n",
            "/content/data/2024-11/2024-11-21_05-30-00.yaml\n",
            "/content/data/2024-11/2024-11-22_05-30-00.yaml\n",
            "/content/data/2024-11/2024-11-13_05-30-00.yaml\n",
            "/content/data/2024-11/2024-11-04_05-30-00.yaml\n",
            "/content/data/2024-11/2024-11-14_05-30-00.yaml\n",
            "/content/data/2024-11/2024-11-18_05-30-00.yaml\n",
            "/content/data/2024-11/2024-11-05_05-30-00.yaml\n",
            "/content/data/2024-11/2024-11-06_05-30-00.yaml\n",
            "/content/data/2024-11/2024-11-19_05-30-00.yaml\n",
            "/content/data/2024-11/2024-11-01_05-30-00.yaml\n",
            "/content/data/2024-11/2024-11-07_05-30-00.yaml\n",
            "/content/data/2024-08/2024-08-02_05-30-00.yaml\n",
            "/content/data/2024-08/2024-08-28_05-30-00.yaml\n",
            "/content/data/2024-08/2024-08-05_05-30-00.yaml\n",
            "/content/data/2024-08/2024-08-22_05-30-00.yaml\n",
            "/content/data/2024-08/2024-08-13_05-30-00.yaml\n",
            "/content/data/2024-08/2024-08-23_05-30-00.yaml\n",
            "/content/data/2024-08/2024-08-29_05-30-00.yaml\n",
            "/content/data/2024-08/2024-08-06_05-30-00.yaml\n",
            "/content/data/2024-08/2024-08-20_05-30-00.yaml\n",
            "/content/data/2024-08/2024-08-21_05-30-00.yaml\n",
            "/content/data/2024-08/2024-08-08_05-30-00.yaml\n",
            "/content/data/2024-08/2024-08-12_05-30-00.yaml\n",
            "/content/data/2024-08/2024-08-09_05-30-00.yaml\n",
            "/content/data/2024-08/2024-08-30_05-30-00.yaml\n",
            "/content/data/2024-08/2024-08-01_05-30-00.yaml\n",
            "/content/data/2024-08/2024-08-14_05-30-00.yaml\n",
            "/content/data/2024-08/2024-08-07_05-30-00.yaml\n",
            "/content/data/2024-08/2024-08-27_05-30-00.yaml\n",
            "/content/data/2024-08/2024-08-16_05-30-00.yaml\n",
            "/content/data/2024-08/2024-08-26_05-30-00.yaml\n",
            "/content/data/2024-08/2024-08-19_05-30-00.yaml\n",
            "/content/data/2024-04/2024-04-15_05-30-00.yaml\n",
            "/content/data/2024-04/2024-04-10_05-30-00.yaml\n",
            "/content/data/2024-04/2024-04-19_05-30-00.yaml\n",
            "/content/data/2024-04/2024-04-18_05-30-00.yaml\n",
            "/content/data/2024-04/2024-04-05_05-30-00.yaml\n",
            "/content/data/2024-04/2024-04-26_05-30-00.yaml\n",
            "/content/data/2024-04/2024-04-23_05-30-00.yaml\n",
            "/content/data/2024-04/2024-04-25_05-30-00.yaml\n",
            "/content/data/2024-04/2024-04-02_05-30-00.yaml\n",
            "/content/data/2024-04/2024-04-08_05-30-00.yaml\n",
            "/content/data/2024-04/2024-04-29_05-30-00.yaml\n",
            "/content/data/2024-04/2024-04-22_05-30-00.yaml\n",
            "/content/data/2024-04/2024-04-01_05-30-00.yaml\n",
            "/content/data/2024-04/2024-04-16_05-30-00.yaml\n",
            "/content/data/2024-04/2024-04-12_05-30-00.yaml\n",
            "/content/data/2024-04/2024-04-04_05-30-00.yaml\n",
            "/content/data/2024-04/2024-04-09_05-30-00.yaml\n",
            "/content/data/2024-04/2024-04-30_05-30-00.yaml\n",
            "/content/data/2024-04/2024-04-03_05-30-00.yaml\n",
            "/content/data/2024-04/2024-04-24_05-30-00.yaml\n"
          ]
        }
      ]
    },
    {
      "cell_type": "code",
      "source": [
        "import yaml\n",
        "with open('/content/data/2024-04/2024-04-24_05-30-00.yaml', 'r') as f:\n",
        "    content = yaml.safe_load(f)\n",
        "    print(content)"
      ],
      "metadata": {
        "colab": {
          "base_uri": "https://localhost:8080/"
        },
        "id": "BiV9s7HMeA9m",
        "outputId": "e3e142bd-357d-47e2-fd36-705fcd84a527"
      },
      "execution_count": null,
      "outputs": [
        {
          "output_type": "stream",
          "name": "stdout",
          "text": [
            "[{'Ticker': 'SBIN', 'close': 773.1, 'date': '2024-04-24 05:30:00', 'high': 778.5, 'low': 770.2, 'month': '2024-04', 'open': 778.5, 'volume': 7842615}, {'Ticker': 'BAJFINANCE', 'close': 7329.15, 'date': '2024-04-24 05:30:00', 'high': 7419.45, 'low': 7250.0, 'month': '2024-04', 'open': 7283.0, 'volume': 886929}, {'Ticker': 'TITAN', 'close': 3609.75, 'date': '2024-04-24 05:30:00', 'high': 3644.85, 'low': 3580.05, 'month': '2024-04', 'open': 3642.0, 'volume': 652811}, {'Ticker': 'ITC', 'close': 428.9, 'date': '2024-04-24 05:30:00', 'high': 430.8, 'low': 428.3, 'month': '2024-04', 'open': 429.25, 'volume': 5845170}, {'Ticker': 'TCS', 'close': 3831.05, 'date': '2024-04-24 05:30:00', 'high': 3898.0, 'low': 3824.45, 'month': '2024-04', 'open': 3890.0, 'volume': 1317312}, {'Ticker': 'LT', 'close': 3634.85, 'date': '2024-04-24 05:30:00', 'high': 3654.95, 'low': 3601.1, 'month': '2024-04', 'open': 3616.55, 'volume': 1501234}, {'Ticker': 'TATACONSUM', 'close': 1096.52, 'date': '2024-04-24 05:30:00', 'high': 1123.73, 'low': 1090.45, 'month': '2024-04', 'open': 1092.42, 'volume': 6368333}, {'Ticker': 'RELIANCE', 'close': 1450.18, 'date': '2024-04-24 05:30:00', 'high': 1468.55, 'low': 1449.5, 'month': '2024-04', 'open': 1463.5, 'volume': 10462776}, {'Ticker': 'HCLTECH', 'close': 1479.25, 'date': '2024-04-24 05:30:00', 'high': 1496.95, 'low': 1476.3, 'month': '2024-04', 'open': 1490.0, 'volume': 1321471}, {'Ticker': 'JSWSTEEL', 'close': 882.7, 'date': '2024-04-24 05:30:00', 'high': 886.0, 'low': 850.0, 'month': '2024-04', 'open': 851.35, 'volume': 4257548}, {'Ticker': 'ULTRACEMCO', 'close': 9658.85, 'date': '2024-04-24 05:30:00', 'high': 9686.8, 'low': 9542.8, 'month': '2024-04', 'open': 9578.0, 'volume': 317929}, {'Ticker': 'POWERGRID', 'close': 290.4, 'date': '2024-04-24 05:30:00', 'high': 291.85, 'low': 284.4, 'month': '2024-04', 'open': 285.0, 'volume': 19324163}, {'Ticker': 'INFY', 'close': 1430.75, 'date': '2024-04-24 05:30:00', 'high': 1444.3, 'low': 1427.05, 'month': '2024-04', 'open': 1444.3, 'volume': 4268213}, {'Ticker': 'TRENT', 'close': 4221.75, 'date': '2024-04-24 05:30:00', 'high': 4245.0, 'low': 4158.3, 'month': '2024-04', 'open': 4158.3, 'volume': 641190}, {'Ticker': 'BHARTIARTL', 'close': 1336.4, 'date': '2024-04-24 05:30:00', 'high': 1354.0, 'low': 1333.55, 'month': '2024-04', 'open': 1352.0, 'volume': 6277492}, {'Ticker': 'TATAMOTORS', 'close': 991.65, 'date': '2024-04-24 05:30:00', 'high': 995.9, 'low': 988.0, 'month': '2024-04', 'open': 992.4, 'volume': 4671450}, {'Ticker': 'WIPRO', 'close': 459.9, 'date': '2024-04-24 05:30:00', 'high': 464.65, 'low': 458.6, 'month': '2024-04', 'open': 463.9, 'volume': 2957584}, {'Ticker': 'TECHM', 'close': 1185.7, 'date': '2024-04-24 05:30:00', 'high': 1207.95, 'low': 1181.5, 'month': '2024-04', 'open': 1207.95, 'volume': 1375843}, {'Ticker': 'NTPC', 'close': 351.65, 'date': '2024-04-24 05:30:00', 'high': 353.15, 'low': 347.3, 'month': '2024-04', 'open': 349.8, 'volume': 11132307}, {'Ticker': 'HINDUNILVR', 'close': 2260.25, 'date': '2024-04-24 05:30:00', 'high': 2268.35, 'low': 2245.65, 'month': '2024-04', 'open': 2266.05, 'volume': 1404398}, {'Ticker': 'APOLLOHOSP', 'close': 6283.35, 'date': '2024-04-24 05:30:00', 'high': 6310.5, 'low': 6186.15, 'month': '2024-04', 'open': 6229.9, 'volume': 207837}, {'Ticker': 'M&M', 'close': 2058.45, 'date': '2024-04-24 05:30:00', 'high': 2090.85, 'low': 2052.95, 'month': '2024-04', 'open': 2055.0, 'volume': 1929834}, {'Ticker': 'GRASIM', 'close': 2337.75, 'date': '2024-04-24 05:30:00', 'high': 2384.3, 'low': 2333.0, 'month': '2024-04', 'open': 2378.0, 'volume': 1021874}, {'Ticker': 'ICICIBANK', 'close': 1096.75, 'date': '2024-04-24 05:30:00', 'high': 1098.4, 'low': 1089.0, 'month': '2024-04', 'open': 1092.25, 'volume': 5461309}, {'Ticker': 'ADANIENT', 'close': 3043.55, 'date': '2024-04-24 05:30:00', 'high': 3087.85, 'low': 3040.0, 'month': '2024-04', 'open': 3071.95, 'volume': 605917}, {'Ticker': 'ADANIPORTS', 'close': 1320.5, 'date': '2024-04-24 05:30:00', 'high': 1332.9, 'low': 1318.05, 'month': '2024-04', 'open': 1331.0, 'volume': 2553035}, {'Ticker': 'BEL', 'close': 236.5, 'date': '2024-04-24 05:30:00', 'high': 239.15, 'low': 234.1, 'month': '2024-04', 'open': 235.25, 'volume': 33392337}, {'Ticker': 'BAJAJFINSV', 'close': 1630.35, 'date': '2024-04-24 05:30:00', 'high': 1648.85, 'low': 1618.05, 'month': '2024-04', 'open': 1625.0, 'volume': 578310}, {'Ticker': 'EICHERMOT', 'close': 4530.7, 'date': '2024-04-24 05:30:00', 'high': 4571.65, 'low': 4514.8, 'month': '2024-04', 'open': 4545.0, 'volume': 919636}, {'Ticker': 'COALINDIA', 'close': 443.85, 'date': '2024-04-24 05:30:00', 'high': 448.7, 'low': 441.15, 'month': '2024-04', 'open': 441.55, 'volume': 6538090}, {'Ticker': 'MARUTI', 'close': 12944.05, 'date': '2024-04-24 05:30:00', 'high': 13073.95, 'low': 12900.0, 'month': '2024-04', 'open': 13000.0, 'volume': 296364}, {'Ticker': 'INDUSINDBK', 'close': 1474.65, 'date': '2024-04-24 05:30:00', 'high': 1483.25, 'low': 1462.75, 'month': '2024-04', 'open': 1477.0, 'volume': 2964953}, {'Ticker': 'ASIANPAINT', 'close': 2867.75, 'date': '2024-04-24 05:30:00', 'high': 2883.1, 'low': 2860.0, 'month': '2024-04', 'open': 2882.95, 'volume': 718441}, {'Ticker': 'TATASTEEL', 'close': 165.55, 'date': '2024-04-24 05:30:00', 'high': 166.9, 'low': 161.45, 'month': '2024-04', 'open': 162.45, 'volume': 59894921}, {'Ticker': 'HDFCLIFE', 'close': 594.2, 'date': '2024-04-24 05:30:00', 'high': 601.1, 'low': 593.0, 'month': '2024-04', 'open': 600.05, 'volume': 4095087}, {'Ticker': 'DRREDDY', 'close': 1190.16, 'date': '2024-04-24 05:30:00', 'high': 1198.97, 'low': 1184.21, 'month': '2024-04', 'open': 1192.01, 'volume': 1334935}, {'Ticker': 'SUNPHARMA', 'close': 1485.75, 'date': '2024-04-24 05:30:00', 'high': 1503.0, 'low': 1479.35, 'month': '2024-04', 'open': 1484.65, 'volume': 4652803}, {'Ticker': 'KOTAKBANK', 'close': 1842.8, 'date': '2024-04-24 05:30:00', 'high': 1845.5, 'low': 1807.8, 'month': '2024-04', 'open': 1812.0, 'volume': 3295077}, {'Ticker': 'SHRIRAMFIN', 'close': 2461.05, 'date': '2024-04-24 05:30:00', 'high': 2481.7, 'low': 2418.0, 'month': '2024-04', 'open': 2427.0, 'volume': 1691860}, {'Ticker': 'NESTLEIND', 'close': 2500.15, 'date': '2024-04-24 05:30:00', 'high': 2535.8, 'low': 2488.25, 'month': '2024-04', 'open': 2515.05, 'volume': 723518}, {'Ticker': 'ONGC', 'close': 279.35, 'date': '2024-04-24 05:30:00', 'high': 280.4, 'low': 276.3, 'month': '2024-04', 'open': 277.6, 'volume': 9253985}, {'Ticker': 'CIPLA', 'close': 1398.2, 'date': '2024-04-24 05:30:00', 'high': 1401.9, 'low': 1352.2, 'month': '2024-04', 'open': 1353.45, 'volume': 4415480}, {'Ticker': 'BPCL', 'close': 296.68, 'date': '2024-04-24 05:30:00', 'high': 299.43, 'low': 296.0, 'month': '2024-04', 'open': 299.0, 'volume': 9778936}, {'Ticker': 'BRITANNIA', 'close': 4828.95, 'date': '2024-04-24 05:30:00', 'high': 4840.0, 'low': 4781.0, 'month': '2024-04', 'open': 4797.0, 'volume': 412282}, {'Ticker': 'SBILIFE', 'close': 1460.05, 'date': '2024-04-24 05:30:00', 'high': 1478.0, 'low': 1452.55, 'month': '2024-04', 'open': 1469.85, 'volume': 898680}, {'Ticker': 'HINDALCO', 'close': 636.1, 'date': '2024-04-24 05:30:00', 'high': 637.65, 'low': 608.7, 'month': '2024-04', 'open': 611.8, 'volume': 11775700}, {'Ticker': 'HEROMOTOCO', 'close': 4393.35, 'date': '2024-04-24 05:30:00', 'high': 4405.35, 'low': 4335.1, 'month': '2024-04', 'open': 4360.0, 'volume': 658601}, {'Ticker': 'AXISBANK', 'close': 1063.25, 'date': '2024-04-24 05:30:00', 'high': 1068.95, 'low': 1056.0, 'month': '2024-04', 'open': 1056.0, 'volume': 5641163}, {'Ticker': 'HDFCBANK', 'close': 1511.7, 'date': '2024-04-24 05:30:00', 'high': 1521.75, 'low': 1509.05, 'month': '2024-04', 'open': 1515.0, 'volume': 11220790}, {'Ticker': 'BAJAJ-AUTO', 'close': 8697.1, 'date': '2024-04-24 05:30:00', 'high': 8869.0, 'low': 8680.0, 'month': '2024-04', 'open': 8819.9, 'volume': 319824}]\n"
          ]
        }
      ]
    },
    {
      "cell_type": "code",
      "source": [
        "import os, yaml, pandas as pd\n",
        "\n",
        "base_dir = 'data/'  # after extraction\n",
        "symbol_data = {}\n",
        "\n",
        "for month in os.listdir(base_dir):\n",
        "    month_path = os.path.join(base_dir, month)\n",
        "    for file in os.listdir(month_path):\n",
        "        if file.endswith('.yaml'):\n",
        "            with open(os.path.join(month_path, file), 'r') as f:\n",
        "                content = yaml.safe_load(f)\n",
        "                for record in content:\n",
        "                    symbol = record['Ticker']\n",
        "                    df = pd.DataFrame([record])\n",
        "                    symbol_data.setdefault(symbol, []).append(df)\n",
        "\n",
        "# Save 50 CSVs (one for each symbol)\n",
        "os.makedirs('csv_output', exist_ok=True)\n",
        "for symbol, dfs in symbol_data.items():\n",
        "    full_df = pd.concat(dfs)\n",
        "    full_df.to_csv(f'csv_output/{symbol}.csv', index=False)"
      ],
      "metadata": {
        "id": "hGGOLBZxeMWk"
      },
      "execution_count": null,
      "outputs": []
    },
    {
      "cell_type": "code",
      "source": [
        "import glob\n",
        "\n",
        "all_files = glob.glob(\"csv_output/*.csv\")\n",
        "combined_df = pd.concat([pd.read_csv(f) for f in all_files])\n",
        "combined_df.to_csv(\"combined_stocks.csv\", index=False)"
      ],
      "metadata": {
        "id": "jFR7J0XkefpW"
      },
      "execution_count": null,
      "outputs": []
    },
    {
      "cell_type": "code",
      "source": [
        "import pandas as pd\n",
        "\n",
        "df = pd.read_csv('combined_stocks.csv')\n",
        "df['date'] = pd.to_datetime(df['date'])  # Ensure datetime format\n",
        "df = df.sort_values(['Ticker', 'date'])  # Important for calculations"
      ],
      "metadata": {
        "id": "RUfdeZ5VfEJF"
      },
      "execution_count": null,
      "outputs": []
    },
    {
      "cell_type": "code",
      "source": [
        "df['daily_return'] = df.groupby('Ticker')['close'].pct_change()"
      ],
      "metadata": {
        "id": "ZrKISkv3fFmW"
      },
      "execution_count": null,
      "outputs": []
    },
    {
      "cell_type": "code",
      "source": [
        "df['daily_return'] = df.groupby('Ticker')['close'].pct_change()\n",
        "df['cumulative_return'] = df.groupby('Ticker')['daily_return'].transform(lambda x: (1 + x).cumprod())\n"
      ],
      "metadata": {
        "id": "qh0hODoRfMy4"
      },
      "execution_count": null,
      "outputs": []
    },
    {
      "cell_type": "code",
      "source": [
        "volatility_df = df.groupby('Ticker')['daily_return'].std().reset_index()\n",
        "volatility_df.columns = ['Ticker', 'volatility']"
      ],
      "metadata": {
        "id": "kShYoC_IfoVy"
      },
      "execution_count": null,
      "outputs": []
    },
    {
      "cell_type": "code",
      "source": [
        "df['month'] = df['date'].dt.to_period('M')\n",
        "monthly_return = df.groupby(['Ticker', 'month'])['daily_return'].sum().reset_index()"
      ],
      "metadata": {
        "id": "c2RZGD4efyQK"
      },
      "execution_count": null,
      "outputs": []
    },
    {
      "cell_type": "code",
      "source": [
        "df.to_csv(\"engineered_stocks.csv\", index=False)\n",
        "volatility_df.to_csv(\"volatility.csv\", index=False)\n",
        "monthly_return.to_csv(\"monthly_return.csv\", index=False)"
      ],
      "metadata": {
        "id": "EE-fEKLLf2Zp"
      },
      "execution_count": null,
      "outputs": []
    },
    {
      "cell_type": "code",
      "source": [
        "sector_mapping = {\n",
        "    'RELIANCE': 'Energy',\n",
        "    'TCS': 'IT',\n",
        "    'INFY': 'IT',\n",
        "    'HDFCBANK': 'Financials',\n",
        "    'ICICIBANK': 'Financials',\n",
        "    'BAJAJ-AUTO': 'Auto',\n",
        "    'SBIN': 'Financials',\n",
        "    'NTPC': 'Energy',\n",
        "    'TITAN': 'Consumer Goods',\n",
        "    'MARUTI': 'Auto',\n",
        "    # 🔧 Add all remaining tickers as per your dataset\n",
        "}\n",
        "\n",
        "df['Sector'] = df['Ticker'].map(sector_mapping)"
      ],
      "metadata": {
        "id": "fNAFqjTtBzQY"
      },
      "execution_count": null,
      "outputs": []
    },
    {
      "cell_type": "code",
      "source": [
        "# Ensure cumulative_return is already computed per Ticker (which it is in your data)\n",
        "sector_performance = df.groupby('Sector')['cumulative_return'].mean().sort_values(ascending=False).reset_index()\n",
        "sector_performance.columns = ['Sector', 'Avg_Yearly_Return']"
      ],
      "metadata": {
        "id": "k5Qo1G2fDNvU"
      },
      "execution_count": null,
      "outputs": []
    }
  ]
}